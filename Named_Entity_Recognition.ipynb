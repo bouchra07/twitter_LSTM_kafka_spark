{
  "nbformat": 4,
  "nbformat_minor": 0,
  "metadata": {
    "colab": {
      "name": "Named_Entity_Recognition.ipynb",
      "provenance": [],
      "collapsed_sections": []
    },
    "kernelspec": {
      "name": "python3",
      "display_name": "Python 3"
    },
    "language_info": {
      "name": "python"
    }
  },
  "cells": [
    {
      "cell_type": "code",
      "metadata": {
        "colab": {
          "base_uri": "https://localhost:8080/"
        },
        "id": "0a-uIL0i2RPx",
        "outputId": "116aedff-f632-4c7c-d6a4-ef3a4a216387"
      },
      "source": [
        "from google.colab import drive\n",
        "drive.mount('/content/drive')"
      ],
      "execution_count": 2,
      "outputs": [
        {
          "output_type": "stream",
          "name": "stdout",
          "text": [
            "Mounted at /content/drive\n"
          ]
        }
      ]
    },
    {
      "cell_type": "code",
      "metadata": {
        "id": "vK5-BDR521VH"
      },
      "source": [
        "ROOT_DIR=\"/content/drive/MyDrive/TwitterSupport/\""
      ],
      "execution_count": 3,
      "outputs": []
    },
    {
      "cell_type": "code",
      "metadata": {
        "id": "4zotabHXSc8N"
      },
      "source": [
        "import spacy\n",
        "from spacy import displacy\n",
        "from collections import Counter\n",
        "import en_core_web_sm\n",
        "nlp = en_core_web_sm.load()"
      ],
      "execution_count": 4,
      "outputs": []
    },
    {
      "cell_type": "code",
      "metadata": {
        "id": "yOdm5qnZ1f_B"
      },
      "source": [
        "TRAIN_DATA = [\n",
        "              (\"Walmart is a leading e-commerce company\", {\"entities\": [(0, 7, \"ORG\")]}),\n",
        "              (\"I reached Chennai yesterday.\", {\"entities\": [(19, 28, \"GPE\")]}),\n",
        "              (\"I recently ordered a book from Amazon\", {\"entities\": [(24,32, \"ORG\")]}),\n",
        "              (\"I was driving a BMW\", {\"entities\": [(16,19, \"PRODUCT\")]}),\n",
        "              (\"I ordered this from ShopClues\", {\"entities\": [(20,29, \"ORG\")]}),\n",
        "              (\"Fridge can be ordered in Amazon \", {\"entities\": [(0,6, \"PRODUCT\")]}),\n",
        "              (\"I bought a new Washer\", {\"entities\": [(16,22, \"PRODUCT\")]}),\n",
        "              (\"I bought a old table\", {\"entities\": [(16,21, \"PRODUCT\")]}),\n",
        "              (\"I bought a fancy dress\", {\"entities\": [(18,23, \"PRODUCT\")]}),\n",
        "              (\"I rented a camera\", {\"entities\": [(12,18, \"PRODUCT\")]}),\n",
        "              (\"I rented a tent for our trip\", {\"entities\": [(12,16, \"PRODUCT\")]}),\n",
        "              (\"I rented a screwdriver from our neighbour\", {\"entities\": [(12,22, \"PRODUCT\")]}),\n",
        "              (\"I repaired my computer\", {\"entities\": [(15,23, \"PRODUCT\")]}),\n",
        "              (\"I got my clock fixed\", {\"entities\": [(16,21, \"PRODUCT\")]}),\n",
        "              (\"I got my truck fixed\", {\"entities\": [(16,21, \"PRODUCT\")]}),\n",
        "              (\"Flipkart started it's journey from zero\", {\"entities\": [(0,8, \"ORG\")]}),\n",
        "              (\"I recently ordered from Max\", {\"entities\": [(24,27, \"ORG\")]}),\n",
        "              (\"Flipkart is recognized as leader in market\",{\"entities\": [(0,8, \"ORG\")]}),\n",
        "              (\"Virgin America is recognized as leader in market\",{\"entities\": [(0,14, \"ORG\")]}),\n",
        "              (\"Virgin America is the best airline ever\",{\"entities\": [(0,14, \"ORG\")]}),\n",
        "              (\"I recently ordered from Swiggy\", {\"entities\": [(24,29, \"ORG\")]}),\n",
        "              (\"Project_test is a great airline.\", {\"entities\" : [(0,12, \"ORG\")]}),\n",
        "              (\"Project_test is a great airline.\", {\"entities\" : [(0,12, \"ORG\")]}),\n",
        "              (\"Project_test is a great airline.\", {\"entities\" : [(0,12, \"ORG\")]}),\n",
        "              (\"Project_test is a great airline.\", {\"entities\" : [(0,12, \"ORG\")]})\n",
        "              ]"
      ],
      "execution_count": 26,
      "outputs": []
    },
    {
      "cell_type": "code",
      "metadata": {
        "id": "CflY7Ytu156j"
      },
      "source": [
        "# Disable pipeline components you dont need to change\n",
        "pipe_exceptions = [\"ner\", \"trf_wordpiecer\", \"trf_tok2vec\"]\n",
        "unaffected_pipes = [pipe for pipe in nlp.pipe_names if pipe not in pipe_exceptions]"
      ],
      "execution_count": 27,
      "outputs": []
    },
    {
      "cell_type": "code",
      "metadata": {
        "colab": {
          "base_uri": "https://localhost:8080/"
        },
        "id": "qkSzKb8d1et6",
        "outputId": "5f88a071-df4b-44d3-d900-8e2d0e5175b0"
      },
      "source": [
        "import random\n",
        "from spacy.util import minibatch, compounding\n",
        "from pathlib import Path\n",
        "\n",
        "# TRAINING THE MODEL\n",
        "with nlp.disable_pipes(*unaffected_pipes):\n",
        "\n",
        "  # Training for 30 iterations\n",
        "  for iteration in range(30):\n",
        "\n",
        "    # shuufling examples  before every iteration\n",
        "    random.shuffle(TRAIN_DATA)\n",
        "    losses = {}\n",
        "    # batch up the examples using spaCy's minibatch\n",
        "    batches = minibatch(TRAIN_DATA, size=compounding(4.0, 32.0, 1.001))\n",
        "    for batch in batches:\n",
        "        texts, annotations = zip(*batch)\n",
        "        nlp.update(\n",
        "                    texts, \n",
        "                    annotations,\n",
        "                    drop=0.5,\n",
        "                    losses=losses,\n",
        "                )\n",
        "        print(\"Losses\", losses)"
      ],
      "execution_count": 28,
      "outputs": [
        {
          "output_type": "stream",
          "name": "stdout",
          "text": [
            "Losses {'ner': 1.2409774997753848e-06}\n",
            "Losses {'ner': 7.564576868577404}\n",
            "Losses {'ner': 7.965053327129136}\n",
            "Losses {'ner': 11.79635537799411}\n",
            "Losses {'ner': 11.991754978541255}\n",
            "Losses {'ner': 11.991759675346035}\n",
            "Losses {'ner': 13.991911738356393}\n",
            "Losses {'ner': 4.6712818382330134e-05}\n",
            "Losses {'ner': 3.9994641600473613}\n",
            "Losses {'ner': 4.016545987364194}\n",
            "Losses {'ner': 4.021727853316343}\n",
            "Losses {'ner': 7.864001582609107}\n",
            "Losses {'ner': 15.464015749421778}\n",
            "Losses {'ner': 15.464015749522721}\n",
            "Losses {'ner': 2.2436237021406678}\n",
            "Losses {'ner': 2.5148078247114567}\n",
            "Losses {'ner': 2.5579658120422533}\n",
            "Losses {'ner': 6.058731504402453}\n",
            "Losses {'ner': 6.0587441875069015}\n",
            "Losses {'ner': 6.067545992568892}\n",
            "Losses {'ner': 6.067545992573585}\n",
            "Losses {'ner': 5.048134452723666e-07}\n",
            "Losses {'ner': 5.23104289191792e-07}\n",
            "Losses {'ner': 4.120752408997419}\n",
            "Losses {'ner': 8.001748785174872}\n",
            "Losses {'ner': 8.002194161693797}\n",
            "Losses {'ner': 8.002194576341603}\n",
            "Losses {'ner': 8.002194786837602}\n",
            "Losses {'ner': 1.5698307368450866}\n",
            "Losses {'ner': 1.5698314698811715}\n",
            "Losses {'ner': 4.020242085035107}\n",
            "Losses {'ner': 4.022922970071373}\n",
            "Losses {'ner': 4.02297481614074}\n",
            "Losses {'ner': 4.022997014840795}\n",
            "Losses {'ner': 4.022999077860859}\n",
            "Losses {'ner': 0.03646226931187021}\n",
            "Losses {'ner': 2.028390196635688}\n",
            "Losses {'ner': 2.028498629132153}\n",
            "Losses {'ner': 2.0285013754217753}\n",
            "Losses {'ner': 2.0285044305628577}\n",
            "Losses {'ner': 2.0285050541749587}\n",
            "Losses {'ner': 2.0285050552887953}\n",
            "Losses {'ner': 0.0008660183955769066}\n",
            "Losses {'ner': 0.0008672332857477603}\n",
            "Losses {'ner': 0.0008675013890136245}\n",
            "Losses {'ner': 0.0008728522903028842}\n",
            "Losses {'ner': 0.0009399803519423894}\n",
            "Losses {'ner': 0.020990910186985522}\n",
            "Losses {'ner': 0.020993811629283606}\n",
            "Losses {'ner': 2.2842063982746482e-08}\n",
            "Losses {'ner': 1.2698532339541574e-05}\n",
            "Losses {'ner': 8.700008003448926e-05}\n",
            "Losses {'ner': 0.00013177581601846977}\n",
            "Losses {'ner': 0.0001528329395823291}\n",
            "Losses {'ner': 0.05217072203635255}\n",
            "Losses {'ner': 0.05217072459534032}\n",
            "Losses {'ner': 1.9863388124768404}\n",
            "Losses {'ner': 1.9863388508746693}\n",
            "Losses {'ner': 1.986339840827282}\n",
            "Losses {'ner': 1.9863398496183657}\n",
            "Losses {'ner': 2.0084325144744506}\n",
            "Losses {'ner': 2.0085824466941724}\n",
            "Losses {'ner': 2.0086782059439376}\n",
            "Losses {'ner': 8.100236804597537e-09}\n",
            "Losses {'ner': 0.0022136201157200606}\n",
            "Losses {'ner': 0.005696805032281136}\n",
            "Losses {'ner': 0.4215937572570703}\n",
            "Losses {'ner': 0.42159375739906657}\n",
            "Losses {'ner': 0.4477457604991675}\n",
            "Losses {'ner': 0.4477462580127469}\n",
            "Losses {'ner': 1.9968785174736517e-10}\n",
            "Losses {'ner': 2.8454415017478327e-08}\n",
            "Losses {'ner': 7.829598609326204e-08}\n",
            "Losses {'ner': 0.0004492665837644065}\n",
            "Losses {'ner': 0.0004524297900861311}\n",
            "Losses {'ner': 1.8858605034537985}\n",
            "Losses {'ner': 1.8858605035793428}\n",
            "Losses {'ner': 1.3399031652739349e-05}\n",
            "Losses {'ner': 0.10874416247758817}\n",
            "Losses {'ner': 0.10898378104742491}\n",
            "Losses {'ner': 0.10898505267191233}\n",
            "Losses {'ner': 0.10898505280689046}\n",
            "Losses {'ner': 0.10908929512823472}\n",
            "Losses {'ner': 0.1090892951347813}\n",
            "Losses {'ner': 0.1277296273031791}\n",
            "Losses {'ner': 0.19620361413263035}\n",
            "Losses {'ner': 0.19620361566829253}\n",
            "Losses {'ner': 0.19620361639950512}\n",
            "Losses {'ner': 0.19620366283035162}\n",
            "Losses {'ner': 0.19620382065032355}\n",
            "Losses {'ner': 0.196203820778383}\n",
            "Losses {'ner': 4.152481060335559e-06}\n",
            "Losses {'ner': 4.812298291056564e-05}\n",
            "Losses {'ner': 0.19848051392735344}\n",
            "Losses {'ner': 0.258492891582686}\n",
            "Losses {'ner': 0.2584987222740078}\n",
            "Losses {'ner': 0.2584987511582004}\n",
            "Losses {'ner': 0.2584987511586016}\n",
            "Losses {'ner': 0.00827491260798292}\n",
            "Losses {'ner': 0.008318110261310251}\n",
            "Losses {'ner': 0.008318592961037792}\n",
            "Losses {'ner': 0.008318594132759805}\n",
            "Losses {'ner': 0.011753429425450202}\n",
            "Losses {'ner': 0.011753435356633594}\n",
            "Losses {'ner': 0.011753449873476757}\n",
            "Losses {'ner': 3.952371073779538e-10}\n",
            "Losses {'ner': 2.8554794848436728e-05}\n",
            "Losses {'ner': 2.855485452699378e-05}\n",
            "Losses {'ner': 2.875965218144283e-05}\n",
            "Losses {'ner': 3.676679594514817e-05}\n",
            "Losses {'ner': 3.7201703587811234e-05}\n",
            "Losses {'ner': 1.8386986339758367}\n",
            "Losses {'ner': 0.0004880042126606006}\n",
            "Losses {'ner': 0.0005029068189687637}\n",
            "Losses {'ner': 0.0005029068191447387}\n",
            "Losses {'ner': 0.0006121821803206685}\n",
            "Losses {'ner': 0.0006121836405459552}\n",
            "Losses {'ner': 0.0006121850980037384}\n",
            "Losses {'ner': 0.0006121868279198577}\n",
            "Losses {'ner': 4.363774720319068e-06}\n",
            "Losses {'ner': 5.461846474601705e-06}\n",
            "Losses {'ner': 0.06977537918129417}\n",
            "Losses {'ner': 0.07432128969743844}\n",
            "Losses {'ner': 0.07436855030277972}\n",
            "Losses {'ner': 0.07436855033535517}\n",
            "Losses {'ner': 0.07436855033543249}\n",
            "Losses {'ner': 1.4160240670349158e-06}\n",
            "Losses {'ner': 0.9240906689801667}\n",
            "Losses {'ner': 2.7101523136334653}\n",
            "Losses {'ner': 2.710153852997625}\n",
            "Losses {'ner': 2.710187141260125}\n",
            "Losses {'ner': 2.7101872563211185}\n",
            "Losses {'ner': 2.710187256321122}\n",
            "Losses {'ner': 3.391527192113081}\n",
            "Losses {'ner': 3.3915477702098427}\n",
            "Losses {'ner': 3.3915477702897436}\n",
            "Losses {'ner': 3.3915822989686584}\n",
            "Losses {'ner': 3.3915875375375277}\n",
            "Losses {'ner': 3.6204576456724373}\n",
            "Losses {'ner': 3.6204576456780617}\n",
            "Losses {'ner': 1.7045933131246428e-11}\n",
            "Losses {'ner': 0.0004445115617374701}\n",
            "Losses {'ner': 0.00045206726249641784}\n",
            "Losses {'ner': 0.00045206727000655564}\n",
            "Losses {'ner': 0.03951065571523566}\n",
            "Losses {'ner': 0.03951916108943399}\n",
            "Losses {'ner': 0.03951916109084767}\n",
            "Losses {'ner': 2.313767818476293e-07}\n",
            "Losses {'ner': 2.0043877140848654}\n",
            "Losses {'ner': 2.0043877195972417}\n",
            "Losses {'ner': 2.004387720273038}\n",
            "Losses {'ner': 2.0043880159468617}\n",
            "Losses {'ner': 2.0043880159667378}\n",
            "Losses {'ner': 2.0043880159671326}\n",
            "Losses {'ner': 1.0823261333358125e-09}\n",
            "Losses {'ner': 1.1662934645086877e-09}\n",
            "Losses {'ner': 1.2362114221359964e-09}\n",
            "Losses {'ner': 0.0003492640556082817}\n",
            "Losses {'ner': 0.0004738421907344394}\n",
            "Losses {'ner': 0.09428451064452285}\n",
            "Losses {'ner': 0.09428451504273987}\n",
            "Losses {'ner': 4.702832863476762e-16}\n",
            "Losses {'ner': 3.751637677417747e-05}\n",
            "Losses {'ner': 3.753661184763679e-05}\n",
            "Losses {'ner': 5.2460196397745305e-05}\n",
            "Losses {'ner': 5.885346706408509e-05}\n",
            "Losses {'ner': 0.00018021742124202971}\n",
            "Losses {'ner': 0.0001824410309689616}\n",
            "Losses {'ner': 6.0307455815552714e-09}\n",
            "Losses {'ner': 6.837249587212465e-08}\n",
            "Losses {'ner': 0.0003629374360112327}\n",
            "Losses {'ner': 0.0003634674849877996}\n",
            "Losses {'ner': 0.0003635819558364478}\n",
            "Losses {'ner': 0.00037339307217241607}\n",
            "Losses {'ner': 0.000406616555217192}\n",
            "Losses {'ner': 0.08039528134291321}\n",
            "Losses {'ner': 0.08061239073645685}\n",
            "Losses {'ner': 0.08061679549571477}\n",
            "Losses {'ner': 0.08061679549638698}\n",
            "Losses {'ner': 0.08061680192846914}\n",
            "Losses {'ner': 0.08061771852931852}\n",
            "Losses {'ner': 0.08095729314241774}\n",
            "Losses {'ner': 3.312138126291981e-07}\n",
            "Losses {'ner': 3.31218520481054e-07}\n",
            "Losses {'ner': 0.0024837470906275264}\n",
            "Losses {'ner': 0.0024837672937335657}\n",
            "Losses {'ner': 0.0024837691836788593}\n",
            "Losses {'ner': 0.002483791967401911}\n",
            "Losses {'ner': 0.0024837920329670907}\n",
            "Losses {'ner': 1.3037025885925813e-09}\n",
            "Losses {'ner': 8.157769789238475e-06}\n",
            "Losses {'ner': 8.407309024080972e-06}\n",
            "Losses {'ner': 8.437012400858935e-06}\n",
            "Losses {'ner': 8.439051604034829e-06}\n",
            "Losses {'ner': 6.837576452832816e-05}\n",
            "Losses {'ner': 6.837576452906703e-05}\n",
            "Losses {'ner': 0.0003622628209247429}\n",
            "Losses {'ner': 4.0012083741637365}\n",
            "Losses {'ner': 4.001208375200289}\n",
            "Losses {'ner': 4.001208417850801}\n",
            "Losses {'ner': 4.001233786185416}\n",
            "Losses {'ner': 4.001233786672861}\n",
            "Losses {'ner': 4.001233801556829}\n",
            "Losses {'ner': 3.383456788142823e-08}\n",
            "Losses {'ner': 2.5262831455147194e-05}\n",
            "Losses {'ner': 2.536434607917196e-05}\n",
            "Losses {'ner': 4.592286142257684e-05}\n",
            "Losses {'ner': 5.833163226272711e-05}\n",
            "Losses {'ner': 5.833186235028282e-05}\n",
            "Losses {'ner': 5.833186237847031e-05}\n"
          ]
        }
      ]
    },
    {
      "cell_type": "code",
      "metadata": {
        "colab": {
          "base_uri": "https://localhost:8080/"
        },
        "id": "fpex0fSq2C-a",
        "outputId": "486892b6-f79d-4f49-f1b6-87169cff383f"
      },
      "source": [
        "doc = nlp(\"is a project for twitter bot auto_replying Project_test\")\n",
        "print(\"Entities\", [(ent.text, ent.label_) for ent in doc.ents])"
      ],
      "execution_count": 33,
      "outputs": [
        {
          "output_type": "stream",
          "name": "stdout",
          "text": [
            "Entities [('Project_test', 'ORG')]\n"
          ]
        }
      ]
    },
    {
      "cell_type": "code",
      "metadata": {
        "colab": {
          "base_uri": "https://localhost:8080/"
        },
        "id": "YuxZhoy_2Mqt",
        "outputId": "c30252e6-fd6f-466c-8374-dc2ffbcaa7d5"
      },
      "source": [
        "# Save the  model to directory\n",
        "output_dir = Path(ROOT_DIR+'model_NER/')\n",
        "nlp.to_disk(output_dir)\n",
        "print(\"Saved model to\", output_dir)"
      ],
      "execution_count": 34,
      "outputs": [
        {
          "output_type": "stream",
          "name": "stdout",
          "text": [
            "Saved model to /content/drive/MyDrive/TwitterSupport/model_NER\n"
          ]
        }
      ]
    },
    {
      "cell_type": "code",
      "source": [
        "def camel_case_split(str):\n",
        "    words = [[str[0]]]\n",
        "  \n",
        "    for c in str[1:]:\n",
        "        if words[-1][-1].islower() and c.isupper():\n",
        "            words.append(list(c))\n",
        "        else:\n",
        "            words[-1].append(c)\n",
        "  \n",
        "    return \" \".join([''.join(word) for word in words])"
      ],
      "metadata": {
        "id": "H0tA2ZdpTiWO"
      },
      "execution_count": 36,
      "outputs": []
    },
    {
      "cell_type": "code",
      "metadata": {
        "id": "_hnAtmGP2MvU",
        "colab": {
          "base_uri": "https://localhost:8080/",
          "height": 35
        },
        "outputId": "f0f87ed0-9305-4e91-f123-196aaff8a374"
      },
      "source": [
        "camel_case_split(\"@AirlineMorocco\")"
      ],
      "execution_count": 39,
      "outputs": [
        {
          "output_type": "execute_result",
          "data": {
            "application/vnd.google.colaboratory.intrinsic+json": {
              "type": "string"
            },
            "text/plain": [
              "'@Airline Morocco'"
            ]
          },
          "metadata": {},
          "execution_count": 39
        }
      ]
    },
    {
      "cell_type": "code",
      "metadata": {
        "id": "1qVUlkUGyVpk"
      },
      "source": [
        ""
      ],
      "execution_count": null,
      "outputs": []
    },
    {
      "cell_type": "code",
      "metadata": {
        "id": "7GZl-ZpyyyZo"
      },
      "source": [
        "import re\n",
        "import string\n",
        "\n",
        "def clean_text( txt):\n",
        "\n",
        "      txt = \" \".join([camel_case_split(t) for t in txt.split(\" \")])\n",
        "      txt = re.sub(r\"(?<=\\w)nt\", \"not\",txt)\n",
        "      txt = re.sub(r'\\W', ' ', str(txt))\n",
        "      txt = txt.translate(str.maketrans('', '', string.punctuation))\n",
        "      txt = re.sub(r'\\s+[a-zA-Z]\\s+', ' ', txt)\n",
        "      txt = re.sub(r'\\s+', ' ', txt, flags=re.I)\n",
        "      txt = re.sub(r\"(http\\S+|http)\", \"\", txt)\n",
        "      return txt"
      ],
      "execution_count": 38,
      "outputs": []
    },
    {
      "cell_type": "code",
      "metadata": {
        "colab": {
          "base_uri": "https://localhost:8080/",
          "height": 35
        },
        "id": "Ms6ez7hQygSu",
        "outputId": "7712d008-c48a-4118-9f9d-19c887945f8b"
      },
      "source": [
        "clean_text(\"@AirlineMorocco why are your first fares in May over three times more than other carriers when all seats are available to select???\")"
      ],
      "execution_count": 40,
      "outputs": [
        {
          "output_type": "execute_result",
          "data": {
            "application/vnd.google.colaboratory.intrinsic+json": {
              "type": "string"
            },
            "text/plain": [
              "' Airline Morocco why are your first fares in May over three times more than other carriers when all seats are available to select '"
            ]
          },
          "metadata": {},
          "execution_count": 40
        }
      ]
    },
    {
      "cell_type": "code",
      "metadata": {
        "colab": {
          "base_uri": "https://localhost:8080/"
        },
        "id": "QmidM4tiUa5Y",
        "outputId": "7f3a0fb6-1273-4ec1-c9fd-a9a8ec2fa0f9"
      },
      "source": [
        "doc = nlp('Airline Morocco why are your first fares in May over three times more than other carriers when all seats are available to select ')\n",
        "print([(X.text, X.label_) for X in doc.ents])"
      ],
      "execution_count": 42,
      "outputs": [
        {
          "output_type": "stream",
          "name": "stdout",
          "text": [
            "[('Airline Morocco', 'ORG'), ('May', 'ORG')]\n"
          ]
        }
      ]
    },
    {
      "cell_type": "code",
      "metadata": {
        "id": "nmtJrVX_4QxS"
      },
      "source": [
        "nlp = en_core_web_sm.load()"
      ],
      "execution_count": 43,
      "outputs": []
    },
    {
      "cell_type": "code",
      "metadata": {
        "colab": {
          "base_uri": "https://localhost:8080/"
        },
        "id": "A8eoDWF6yU_i",
        "outputId": "d04f687e-aa0b-4a8e-c3de-db553e3d2eef"
      },
      "source": [
        "doc = nlp(' Airline Morocco why are your first moroccan airline fares in May over three times more than other carriers when all seats are available to select ')\n",
        "print([(X.text, X.label_) for X in doc.ents])"
      ],
      "execution_count": 45,
      "outputs": [
        {
          "output_type": "stream",
          "name": "stdout",
          "text": [
            "[('Airline Morocco', 'PERSON'), ('first', 'ORDINAL'), ('moroccan', 'NORP'), ('May', 'DATE'), ('three', 'CARDINAL')]\n"
          ]
        }
      ]
    },
    {
      "cell_type": "code",
      "metadata": {
        "id": "1ZWJ5OZvUqb5"
      },
      "source": [
        "import spacy\n",
        "from spacy import displacy\n",
        "from collections import Counter\n",
        "import en_core_web_sm\n",
        "import re\n",
        "import string\n",
        "from pathlib import Path\n",
        "\n",
        "class NameEntities:\n",
        "\n",
        "  def __init__(self):\n",
        "\n",
        "      self.nlp = en_core_web_sm.load()\n",
        "      output_dir = Path(ROOT_DIR+'model_NER/')\n",
        "      print(\"Loading from\", output_dir)\n",
        "      self.nlp_updated = spacy.load(output_dir)\n",
        "\n",
        "  def clean_text(self, txt):\n",
        "\n",
        "      txt = \" \".join([self.camel_case_split(t) for t in txt.split(\" \")])\n",
        "      txt = re.sub(r\"(?<=\\w)nt\", \"not\",txt) #change don't to do not cna't to cannot \n",
        "      txt = re.sub(r'\\W', ' ', str(txt)) # remove all special characters including apastrophie \n",
        "      txt = txt.translate(str.maketrans('', '', string.punctuation)) # remove punctuations \n",
        "      txt = re.sub(r'\\s+[a-zA-Z]\\s+', ' ', txt)   # remove all single characters (it's -> it s then we need to remove s)\n",
        "      txt = re.sub(r'\\s+', ' ', txt, flags=re.I) # Substituting multiple spaces with single space\n",
        "      txt = re.sub(r\"(http\\S+|http)\", \"\", txt) # remove links \n",
        "      return txt\n",
        "\n",
        "\n",
        "  def camel_case_split(self, str):\n",
        "    words = [[str[0]]]\n",
        "  \n",
        "    for c in str[1:]:\n",
        "        if words[-1][-1].islower() and c.isupper():\n",
        "            words.append(list(c))\n",
        "        else:\n",
        "            words[-1].append(c)\n",
        "  \n",
        "    return \" \".join([''.join(word) for word in words])\n",
        "\n",
        "  \n",
        "  def get_Entities(self, text):\n",
        "      text = self.clean_text(text)\n",
        "      doc = self.nlp_updated(text)\n",
        "      labels = [(X.text, X.label_) for X in doc.ents]\n",
        "\n",
        "      doc = self.nlp(text)\n",
        "      labels_norm = [(X.text, X.label_) for X in doc.ents]\n",
        "      labels.extend(labels_norm)\n",
        "\n",
        "      return labels\n",
        "\n"
      ],
      "execution_count": 46,
      "outputs": []
    },
    {
      "cell_type": "code",
      "metadata": {
        "colab": {
          "base_uri": "https://localhost:8080/"
        },
        "id": "mmQ0pXgz1Va9",
        "outputId": "9b8ccfdc-2d97-46c8-983c-3b673fbc14d2"
      },
      "source": [
        "ner = NameEntities()"
      ],
      "execution_count": 47,
      "outputs": [
        {
          "output_type": "stream",
          "name": "stdout",
          "text": [
            "Loading from /content/drive/MyDrive/TwitterSupport/model_NER\n"
          ]
        }
      ]
    },
    {
      "cell_type": "code",
      "metadata": {
        "colab": {
          "base_uri": "https://localhost:8080/"
        },
        "id": "C5qCf68N1dKy",
        "outputId": "2f411efb-4564-4a13-c159-23d9fd8a6292"
      },
      "source": [
        "ner.get_Entities(\"Project_test is a good airline\")"
      ],
      "execution_count": 50,
      "outputs": [
        {
          "output_type": "execute_result",
          "data": {
            "text/plain": [
              "[('Projecttest', 'ORG')]"
            ]
          },
          "metadata": {},
          "execution_count": 50
        }
      ]
    }
  ]
}
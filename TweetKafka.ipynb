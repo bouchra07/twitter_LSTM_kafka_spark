{
 "cells": [
  {
   "cell_type": "code",
   "execution_count": 3,
   "id": "bc2d1f56",
   "metadata": {},
   "outputs": [
    {
     "name": "stdout",
     "output_type": "stream",
     "text": [
      "Collecting kafka-python\n",
      "  Using cached kafka_python-2.0.2-py2.py3-none-any.whl (246 kB)\n",
      "Installing collected packages: kafka-python\n",
      "Successfully installed kafka-python-2.0.2\n"
     ]
    },
    {
     "name": "stderr",
     "output_type": "stream",
     "text": [
      "WARNING: You are using pip version 21.1.1; however, version 22.0.3 is available.\n",
      "You should consider upgrading via the 'c:\\users\\bouch\\appdata\\local\\programs\\python\\python38\\python.exe -m pip install --upgrade pip' command.\n"
     ]
    }
   ],
   "source": [
    "!pip install kafka-python"
   ]
  },
  {
   "cell_type": "code",
   "execution_count": null,
   "id": "f2101d0a-2012-4a0f-a18b-6efbe535fad6",
   "metadata": {},
   "outputs": [],
   "source": []
  },
  {
   "cell_type": "code",
   "execution_count": 14,
   "id": "74cfecd8-b699-4afc-9c69-a75259f3278c",
   "metadata": {},
   "outputs": [
    {
     "name": "stdout",
     "output_type": "stream",
     "text": [
      "Collecting tweepy==3.10.0"
     ]
    },
    {
     "name": "stderr",
     "output_type": "stream",
     "text": [
      "WARNING: You are using pip version 21.1.1; however, version 22.0.3 is available.\n",
      "You should consider upgrading via the 'c:\\users\\bouch\\appdata\\local\\programs\\python\\python38\\python.exe -m pip install --upgrade pip' command.\n"
     ]
    },
    {
     "name": "stdout",
     "output_type": "stream",
     "text": [
      "\n",
      "  Downloading tweepy-3.10.0-py2.py3-none-any.whl (30 kB)\n",
      "Requirement already satisfied: requests[socks]>=2.11.1 in c:\\users\\bouch\\appdata\\local\\programs\\python\\python38\\lib\\site-packages (from tweepy==3.10.0) (2.27.1)\n",
      "Requirement already satisfied: six>=1.10.0 in c:\\users\\bouch\\appdata\\local\\programs\\python\\python38\\lib\\site-packages (from tweepy==3.10.0) (1.16.0)\n",
      "Requirement already satisfied: requests-oauthlib>=0.7.0 in c:\\users\\bouch\\appdata\\local\\programs\\python\\python38\\lib\\site-packages (from tweepy==3.10.0) (1.3.1)\n",
      "Requirement already satisfied: oauthlib>=3.0.0 in c:\\users\\bouch\\appdata\\local\\programs\\python\\python38\\lib\\site-packages (from requests-oauthlib>=0.7.0->tweepy==3.10.0) (3.2.0)\n",
      "Requirement already satisfied: certifi>=2017.4.17 in c:\\users\\bouch\\appdata\\local\\programs\\python\\python38\\lib\\site-packages (from requests[socks]>=2.11.1->tweepy==3.10.0) (2021.10.8)\n",
      "Requirement already satisfied: charset-normalizer~=2.0.0 in c:\\users\\bouch\\appdata\\local\\programs\\python\\python38\\lib\\site-packages (from requests[socks]>=2.11.1->tweepy==3.10.0) (2.0.11)\n",
      "Requirement already satisfied: urllib3<1.27,>=1.21.1 in c:\\users\\bouch\\appdata\\local\\programs\\python\\python38\\lib\\site-packages (from requests[socks]>=2.11.1->tweepy==3.10.0) (1.26.8)\n",
      "Requirement already satisfied: idna<4,>=2.5 in c:\\users\\bouch\\appdata\\local\\programs\\python\\python38\\lib\\site-packages (from requests[socks]>=2.11.1->tweepy==3.10.0) (3.3)\n",
      "Collecting PySocks!=1.5.7,>=1.5.6\n",
      "  Downloading PySocks-1.7.1-py3-none-any.whl (16 kB)\n",
      "Installing collected packages: PySocks, tweepy\n",
      "  Attempting uninstall: tweepy\n",
      "    Found existing installation: tweepy 4.5.0\n",
      "    Uninstalling tweepy-4.5.0:\n",
      "      Successfully uninstalled tweepy-4.5.0\n",
      "Successfully installed PySocks-1.7.1 tweepy-3.10.0\n"
     ]
    }
   ],
   "source": [
    "!pip install tweepy==3.10.0"
   ]
  },
  {
   "cell_type": "code",
   "execution_count": null,
   "id": "2f37b4d7-5e68-4b60-9f77-a49af2cfcb06",
   "metadata": {},
   "outputs": [],
   "source": []
  },
  {
   "cell_type": "code",
   "execution_count": 1,
   "id": "ff491426",
   "metadata": {},
   "outputs": [],
   "source": [
    "import tweepy\n",
    "from tweepy import StreamListener\n",
    "from tweepy import OAuthHandler\n",
    "from tweepy.streaming import Stream\n",
    "from tweepy import OAuthHandler\n",
    "from kafka import KafkaProducer\n",
    "import json"
   ]
  },
  {
   "cell_type": "code",
   "execution_count": 2,
   "id": "eefd295f",
   "metadata": {},
   "outputs": [],
   "source": [
    "producer = KafkaProducer(bootstrap_servers='localhost:29092')"
   ]
  },
  {
   "cell_type": "code",
   "execution_count": 3,
   "id": "a91b9be6-38f1-4d03-a175-1df8148ed680",
   "metadata": {},
   "outputs": [],
   "source": [
    "topic_name = \"sample-data\""
   ]
  },
  {
   "cell_type": "code",
   "execution_count": 6,
   "id": "acfe636b",
   "metadata": {},
   "outputs": [],
   "source": [
    "access_token = \"4518193835-XGOBCZibmnUdgkPZM3CGLL6JFKqoAktx1VimWYD\"\n",
    "access_secret = \"GQrGPwhJehHwhQiw7pTC4CzXMioRLBFNWSpiwqIzkZAjA\"\n",
    "consumer_key = \"XRuZQD2Sq8Ojtvo3dbe1Z2U0M\"\n",
    "consumer_secret = \"FRjWoFHTSxWKIYfRZCsifD6jRJRjTJBunet8JUj4pJOiZp2y4x\"\n",
    "\n",
    "# access_token = \"1412669800707330048-vsa6dPAQQKpOzggTFKq2Xue2jO6U4W\"\n",
    "# access_secret= \"cDCOldC8YzFxEx9P8IW6oAHaWJ1pSU2vpSlzJJRvMhf8F\"\n",
    "\n",
    "# consumer_key = \"QpgMPt5vsM2Zfgkixm24eDQWD\"\n",
    "# consumer_secret = \"67wvFXE2qKiCwh7Mm7iSMfwwPT3Q74pdr7YvtWh6BUeg19IJpC\""
   ]
  },
  {
   "cell_type": "code",
   "execution_count": 7,
   "id": "35b056fe",
   "metadata": {},
   "outputs": [],
   "source": [
    "class twitterAuth():\n",
    "\n",
    "    def authenticateTwitterApp(self):\n",
    "        auth = OAuthHandler(consumer_key, consumer_secret)\n",
    "        auth.set_access_token(access_token, access_secret)\n",
    "        \n",
    "        # auth = tweepy.OAuth2BearerHandler(\"xxxx\")\n",
    "        # auth = tweepy.API(auth)\n",
    "\n",
    "        return auth\n"
   ]
  },
  {
   "cell_type": "code",
   "execution_count": 10,
   "id": "2f5f68e0",
   "metadata": {},
   "outputs": [],
   "source": [
    "class TwitterStreamer():\n",
    "\n",
    "    def __init__(self):\n",
    "        self.twitterAuth = twitterAuth()\n",
    "\n",
    "    def stream_tweets(self):\n",
    "        while True:\n",
    "            try:\n",
    "                listener = TweetsListener() \n",
    "                auth = self.twitterAuth.authenticateTwitterApp()\n",
    "                stream = Stream(auth, listener)\n",
    "                stream.filter(track=[\"project_test\"], stall_warnings=True, languages= [\"en\"])\n",
    "            except Exception as e:\n",
    "                print(e)\n"
   ]
  },
  {
   "cell_type": "code",
   "execution_count": 8,
   "id": "89959270",
   "metadata": {},
   "outputs": [],
   "source": [
    "class TweetsListener(StreamListener):\n",
    "    \n",
    "  def on_data(self, data):\n",
    "    try:  \n",
    "      msg = json.loads( data )\n",
    "      print(\"new message\")\n",
    "      \n",
    "      if \"extended_tweet\" in msg:\n",
    "        out_data = '{ \"tweet\":\"'+str(msg['extended_tweet']['full_text']).replace(\"\\n\",\"\")+'\",\"user\":\"'+str(msg['user']['screen_name'])+'\", \"tweet_id\":\"'+str(msg['id_str'])+'\" }'\n",
    "        print(out_data)\n",
    "        producer.send(topic_name, str.encode(out_data))\n",
    "      else:\n",
    "        out_data = '{ \"tweet\":\"'+str(msg['text']).replace(\"\\n\",\"\")+'\",\"user\":\"'+str(msg['user']['screen_name'])+'\", \"tweet_id\":\"'+str(msg['id_str'])+'\" }'\n",
    "        print(out_data)\n",
    "        producer.send(topic_name, str.encode(out_data))\n",
    "      return True\n",
    "\n",
    "    except BaseException as e:\n",
    "        print(\"Error on_data: %s\" % str(e))\n",
    "    return True\n",
    "\n",
    "\n",
    "  def on_error(self, status):\n",
    "    print(status)\n",
    "    return True\n",
    "\n",
    "  def on_exception(self, exception):\n",
    "        print(exception)\n",
    "        return"
   ]
  },
  {
   "cell_type": "code",
   "execution_count": 1,
   "id": "d3355790-3e35-4fd4-949d-3559d1cd45e4",
   "metadata": {},
   "outputs": [
    {
     "name": "stdout",
     "output_type": "stream",
     "text": [
      "hello world\n"
     ]
    }
   ],
   "source": [
    "print('hello world')"
   ]
  },
  {
   "cell_type": "code",
   "execution_count": null,
   "id": "6b11b538-b477-4079-a67f-b97ff1fbc939",
   "metadata": {
    "pycharm": {
     "is_executing": true
    }
   },
   "outputs": [
    {
     "name": "stdout",
     "output_type": "stream",
     "text": [
      "new message\n",
      "{ \"tweet\":\"project_test test3\",\"user\":\"parz1_\", \"tweet_id\":\"1491721502273720325\" }\n"
     ]
    }
   ],
   "source": [
    "if __name__ == \"__main__\":\n",
    "    TS = TwitterStreamer() \n",
    "    TS.stream_tweets()"
   ]
  },
  {
   "cell_type": "raw",
   "id": "9eb9576e-cfe2-48ac-b4f5-f144f7300bb9",
   "metadata": {},
   "source": [
    "# from kafka import KafkaConsumer\n",
    "# import json\n",
    "\n",
    "# topic_name = \"tweet-data\"\n",
    "\n",
    "# consumer = KafkaConsumer(\n",
    "#     topic_name,\n",
    "#      bootstrap_servers=['localhost:9092'],\n",
    "#      auto_offset_reset='earliest',\n",
    "#      enable_auto_commit=True,\n",
    "#      auto_commit_interval_ms =  5000,\n",
    "#      fetch_max_bytes = 128,\n",
    "#      max_poll_records = 100,\n",
    "\n",
    "#      value_deserializer=lambda x: json.loads(x.decode('utf-8')))\n",
    "\n",
    "# for message in consumer:\n",
    "#  tweets = json.loads(json.dumps(message.value))\n",
    "#  print(tweets)"
   ]
  },
  {
   "cell_type": "code",
   "execution_count": null,
   "id": "76cd2aef-177f-470b-8024-1f524e90e40f",
   "metadata": {},
   "outputs": [],
   "source": []
  },
  {
   "cell_type": "code",
   "execution_count": null,
   "id": "e7e2a666",
   "metadata": {},
   "outputs": [],
   "source": []
  },
  {
   "cell_type": "code",
   "execution_count": null,
   "id": "73f8bc07",
   "metadata": {
    "pycharm": {
     "name": "#%%"
    }
   },
   "outputs": [],
   "source": []
  }
 ],
 "metadata": {
  "kernelspec": {
   "display_name": "Python 3 (ipykernel)",
   "language": "python",
   "name": "python3"
  },
  "language_info": {
   "codemirror_mode": {
    "name": "ipython",
    "version": 3
   },
   "file_extension": ".py",
   "mimetype": "text/x-python",
   "name": "python",
   "nbconvert_exporter": "python",
   "pygments_lexer": "ipython3",
   "version": "3.8.10"
  }
 },
 "nbformat": 4,
 "nbformat_minor": 5
}
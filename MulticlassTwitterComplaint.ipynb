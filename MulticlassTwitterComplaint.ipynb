{
 "nbformat": 4,
 "nbformat_minor": 0,
 "metadata": {
  "colab": {
   "name": "MulticlassTwitterComplaint.ipynb",
   "provenance": [],
   "collapsed_sections": []
  },
  "kernelspec": {
   "name": "python3",
   "display_name": "Python 3"
  },
  "language_info": {
   "name": "python"
  },
  "accelerator": "GPU"
 },
 "cells": [
  {
   "cell_type": "code",
   "metadata": {
    "colab": {
     "base_uri": "https://localhost:8080/"
    },
    "id": "Hrh8uXiNiJns",
    "outputId": "d96c0687-e83d-4adb-9810-5f1da4234099"
   },
   "source": [
    "from google.colab import drive\n",
    "drive.mount('/content/drive')"
   ],
   "execution_count": 1,
   "outputs": [
    {
     "output_type": "stream",
     "name": "stdout",
     "text": [
      "Mounted at /content/drive\n"
     ]
    }
   ]
  },
  {
   "cell_type": "code",
   "metadata": {
    "colab": {
     "base_uri": "https://localhost:8080/"
    },
    "id": "q681Cx_nMAfJ",
    "outputId": "c7334344-27f0-45ec-9c51-b78b42e7036c"
   },
   "source": [
    "!pip install tokenizer"
   ],
   "execution_count": null,
   "outputs": [
    {
     "output_type": "stream",
     "name": "stdout",
     "text": [
      "Collecting tokenizer\n",
      "  Downloading tokenizer-3.3.2-py2.py3-none-any.whl (77 kB)\n",
      "\u001B[?25l\r\u001B[K     |████▏                           | 10 kB 19.0 MB/s eta 0:00:01\r\u001B[K     |████████▍                       | 20 kB 12.4 MB/s eta 0:00:01\r\u001B[K     |████████████▋                   | 30 kB 6.2 MB/s eta 0:00:01\r\u001B[K     |████████████████▉               | 40 kB 5.5 MB/s eta 0:00:01\r\u001B[K     |█████████████████████           | 51 kB 5.0 MB/s eta 0:00:01\r\u001B[K     |█████████████████████████▎      | 61 kB 5.2 MB/s eta 0:00:01\r\u001B[K     |█████████████████████████████▌  | 71 kB 5.3 MB/s eta 0:00:01\r\u001B[K     |████████████████████████████████| 77 kB 2.9 MB/s \n",
      "\u001B[?25hInstalling collected packages: tokenizer\n",
      "Successfully installed tokenizer-3.3.2\n"
     ]
    }
   ]
  },
  {
   "cell_type": "code",
   "metadata": {
    "id": "7u6Ih_K29crk",
    "colab": {
     "base_uri": "https://localhost:8080/"
    },
    "outputId": "8cdde4ea-1305-4f5f-bb66-91c16b15ca2d"
   },
   "source": [
    "import os, string\n",
    "import numpy as np\n",
    "import pandas as pd\n",
    "import matplotlib.pyplot as plt\n",
    "import seaborn as sns\n",
    "\n",
    "import snowballstemmer\n",
    "from nltk.corpus import stopwords\n",
    "\n",
    "from sklearn.preprocessing import LabelEncoder\n",
    "from sklearn.model_selection import train_test_split, cross_val_score \n",
    "import pandas as pd\n",
    "import matplotlib.cm as cm\n",
    "\n",
    "import tensorflow as tf\n",
    "from tensorflow.keras.preprocessing.text import Tokenizer\n",
    "from tensorflow.keras.preprocessing.sequence import pad_sequences\n",
    "import tensorflow.keras.models\n",
    "from tensorflow.keras.models import Sequential\n",
    "from tensorflow.keras.layers import Embedding\n",
    "from keras.layers.recurrent import LSTM\n",
    "from tensorflow.keras.layers import Input, Dense, Embedding, SpatialDropout1D, add, concatenate\n",
    "from tensorflow.keras.callbacks import ModelCheckpoint, EarlyStopping\n",
    "\n",
    "\n",
    "import nltk\n",
    "nltk.download('stopwords')\n",
    "from nltk import PorterStemmer"
   ],
   "execution_count": 2,
   "outputs": [
    {
     "output_type": "stream",
     "name": "stdout",
     "text": [
      "[nltk_data] Downloading package stopwords to /root/nltk_data...\n",
      "[nltk_data]   Unzipping corpora/stopwords.zip.\n"
     ]
    }
   ]
  },
  {
   "cell_type": "code",
   "metadata": {
    "id": "674gKtQ8i2wc"
   },
   "source": [
    "ROOT_DIR=\"/content/drive/MyDrive/TwitterSupport/\""
   ],
   "execution_count": 3,
   "outputs": []
  },
  {
   "cell_type": "code",
   "metadata": {
    "colab": {
     "base_uri": "https://localhost:8080/",
     "height": 530
    },
    "id": "Niz07JA1eUcL",
    "outputId": "d1b069c0-ea98-4fee-bac1-ac1222acb1de"
   },
   "source": [
    "df = pd.read_csv(ROOT_DIR+'dataset/labelled_airline_tweet.csv')\n",
    "df.head()"
   ],
   "execution_count": 4,
   "outputs": [
    {
     "output_type": "execute_result",
     "data": {
      "text/html": [
       "\n",
       "  <div id=\"df-1af0f30d-e683-4b19-a117-7c06ae08a3d7\">\n",
       "    <div class=\"colab-df-container\">\n",
       "      <div>\n",
       "<style scoped>\n",
       "    .dataframe tbody tr th:only-of-type {\n",
       "        vertical-align: middle;\n",
       "    }\n",
       "\n",
       "    .dataframe tbody tr th {\n",
       "        vertical-align: top;\n",
       "    }\n",
       "\n",
       "    .dataframe thead th {\n",
       "        text-align: right;\n",
       "    }\n",
       "</style>\n",
       "<table border=\"1\" class=\"dataframe\">\n",
       "  <thead>\n",
       "    <tr style=\"text-align: right;\">\n",
       "      <th></th>\n",
       "      <th>Unnamed: 0</th>\n",
       "      <th>tweet_id</th>\n",
       "      <th>airline_sentiment</th>\n",
       "      <th>airline_sentiment_confidence</th>\n",
       "      <th>negativereason</th>\n",
       "      <th>negativereason_confidence</th>\n",
       "      <th>airline</th>\n",
       "      <th>airline_sentiment_gold</th>\n",
       "      <th>name</th>\n",
       "      <th>negativereason_gold</th>\n",
       "      <th>retweet_count</th>\n",
       "      <th>text</th>\n",
       "      <th>tweet_coord</th>\n",
       "      <th>tweet_created</th>\n",
       "      <th>tweet_location</th>\n",
       "      <th>user_timezone</th>\n",
       "      <th>token</th>\n",
       "      <th>topic_no</th>\n",
       "      <th>topic_prob</th>\n",
       "      <th>topic_desc</th>\n",
       "    </tr>\n",
       "  </thead>\n",
       "  <tbody>\n",
       "    <tr>\n",
       "      <th>0</th>\n",
       "      <td>0</td>\n",
       "      <td>570301031407624196</td>\n",
       "      <td>negative</td>\n",
       "      <td>1.0000</td>\n",
       "      <td>Bad Flight</td>\n",
       "      <td>0.7033</td>\n",
       "      <td>Virgin America</td>\n",
       "      <td>NaN</td>\n",
       "      <td>jnardino</td>\n",
       "      <td>NaN</td>\n",
       "      <td>0</td>\n",
       "      <td>@VirginAmerica it's really aggressive to blast...</td>\n",
       "      <td>NaN</td>\n",
       "      <td>2015-02-24 11:15:36 -0800</td>\n",
       "      <td>NaN</td>\n",
       "      <td>Pacific Time (US &amp; Canada)</td>\n",
       "      <td>['aggressive', 'blast', 'obnoxious', 'entertai...</td>\n",
       "      <td>3</td>\n",
       "      <td>0.221675</td>\n",
       "      <td>Reschedule and Refund</td>\n",
       "    </tr>\n",
       "    <tr>\n",
       "      <th>1</th>\n",
       "      <td>1</td>\n",
       "      <td>570300817074462722</td>\n",
       "      <td>negative</td>\n",
       "      <td>1.0000</td>\n",
       "      <td>Can't Tell</td>\n",
       "      <td>1.0000</td>\n",
       "      <td>Virgin America</td>\n",
       "      <td>NaN</td>\n",
       "      <td>jnardino</td>\n",
       "      <td>NaN</td>\n",
       "      <td>0</td>\n",
       "      <td>@VirginAmerica and it's a really big bad thing...</td>\n",
       "      <td>NaN</td>\n",
       "      <td>2015-02-24 11:14:45 -0800</td>\n",
       "      <td>NaN</td>\n",
       "      <td>Pacific Time (US &amp; Canada)</td>\n",
       "      <td>[]</td>\n",
       "      <td>3</td>\n",
       "      <td>0.214476</td>\n",
       "      <td>Reschedule and Refund</td>\n",
       "    </tr>\n",
       "    <tr>\n",
       "      <th>2</th>\n",
       "      <td>2</td>\n",
       "      <td>570300767074181121</td>\n",
       "      <td>negative</td>\n",
       "      <td>1.0000</td>\n",
       "      <td>Can't Tell</td>\n",
       "      <td>0.6842</td>\n",
       "      <td>Virgin America</td>\n",
       "      <td>NaN</td>\n",
       "      <td>jnardino</td>\n",
       "      <td>NaN</td>\n",
       "      <td>0</td>\n",
       "      <td>@VirginAmerica seriously would pay $30 a fligh...</td>\n",
       "      <td>NaN</td>\n",
       "      <td>2015-02-24 11:14:33 -0800</td>\n",
       "      <td>NaN</td>\n",
       "      <td>Pacific Time (US &amp; Canada)</td>\n",
       "      <td>['seat', 'play', 'fly']</td>\n",
       "      <td>4</td>\n",
       "      <td>0.227286</td>\n",
       "      <td>Phone and Online Booking</td>\n",
       "    </tr>\n",
       "    <tr>\n",
       "      <th>3</th>\n",
       "      <td>3</td>\n",
       "      <td>570282469121007616</td>\n",
       "      <td>negative</td>\n",
       "      <td>0.6842</td>\n",
       "      <td>Late Flight</td>\n",
       "      <td>0.3684</td>\n",
       "      <td>Virgin America</td>\n",
       "      <td>NaN</td>\n",
       "      <td>smartwatermelon</td>\n",
       "      <td>NaN</td>\n",
       "      <td>0</td>\n",
       "      <td>@VirginAmerica SFO-PDX schedule is still MIA.</td>\n",
       "      <td>NaN</td>\n",
       "      <td>2015-02-24 10:01:50 -0800</td>\n",
       "      <td>palo alto, ca</td>\n",
       "      <td>Pacific Time (US &amp; Canada)</td>\n",
       "      <td>['sfopdx', 'schedule']</td>\n",
       "      <td>3</td>\n",
       "      <td>0.259870</td>\n",
       "      <td>Reschedule and Refund</td>\n",
       "    </tr>\n",
       "    <tr>\n",
       "      <th>4</th>\n",
       "      <td>4</td>\n",
       "      <td>570276917301137409</td>\n",
       "      <td>negative</td>\n",
       "      <td>1.0000</td>\n",
       "      <td>Bad Flight</td>\n",
       "      <td>1.0000</td>\n",
       "      <td>Virgin America</td>\n",
       "      <td>NaN</td>\n",
       "      <td>heatherovieda</td>\n",
       "      <td>NaN</td>\n",
       "      <td>0</td>\n",
       "      <td>@VirginAmerica  I flew from NYC to SFO last we...</td>\n",
       "      <td>NaN</td>\n",
       "      <td>2015-02-24 09:39:46 -0800</td>\n",
       "      <td>this place called NYC</td>\n",
       "      <td>Eastern Time (US &amp; Canada)</td>\n",
       "      <td>['fully', 'large', 'gentleman']</td>\n",
       "      <td>3</td>\n",
       "      <td>0.193757</td>\n",
       "      <td>Reschedule and Refund</td>\n",
       "    </tr>\n",
       "  </tbody>\n",
       "</table>\n",
       "</div>\n",
       "      <button class=\"colab-df-convert\" onclick=\"convertToInteractive('df-1af0f30d-e683-4b19-a117-7c06ae08a3d7')\"\n",
       "              title=\"Convert this dataframe to an interactive table.\"\n",
       "              style=\"display:none;\">\n",
       "        \n",
       "  <svg xmlns=\"http://www.w3.org/2000/svg\" height=\"24px\"viewBox=\"0 0 24 24\"\n",
       "       width=\"24px\">\n",
       "    <path d=\"M0 0h24v24H0V0z\" fill=\"none\"/>\n",
       "    <path d=\"M18.56 5.44l.94 2.06.94-2.06 2.06-.94-2.06-.94-.94-2.06-.94 2.06-2.06.94zm-11 1L8.5 8.5l.94-2.06 2.06-.94-2.06-.94L8.5 2.5l-.94 2.06-2.06.94zm10 10l.94 2.06.94-2.06 2.06-.94-2.06-.94-.94-2.06-.94 2.06-2.06.94z\"/><path d=\"M17.41 7.96l-1.37-1.37c-.4-.4-.92-.59-1.43-.59-.52 0-1.04.2-1.43.59L10.3 9.45l-7.72 7.72c-.78.78-.78 2.05 0 2.83L4 21.41c.39.39.9.59 1.41.59.51 0 1.02-.2 1.41-.59l7.78-7.78 2.81-2.81c.8-.78.8-2.07 0-2.86zM5.41 20L4 18.59l7.72-7.72 1.47 1.35L5.41 20z\"/>\n",
       "  </svg>\n",
       "      </button>\n",
       "      \n",
       "  <style>\n",
       "    .colab-df-container {\n",
       "      display:flex;\n",
       "      flex-wrap:wrap;\n",
       "      gap: 12px;\n",
       "    }\n",
       "\n",
       "    .colab-df-convert {\n",
       "      background-color: #E8F0FE;\n",
       "      border: none;\n",
       "      border-radius: 50%;\n",
       "      cursor: pointer;\n",
       "      display: none;\n",
       "      fill: #1967D2;\n",
       "      height: 32px;\n",
       "      padding: 0 0 0 0;\n",
       "      width: 32px;\n",
       "    }\n",
       "\n",
       "    .colab-df-convert:hover {\n",
       "      background-color: #E2EBFA;\n",
       "      box-shadow: 0px 1px 2px rgba(60, 64, 67, 0.3), 0px 1px 3px 1px rgba(60, 64, 67, 0.15);\n",
       "      fill: #174EA6;\n",
       "    }\n",
       "\n",
       "    [theme=dark] .colab-df-convert {\n",
       "      background-color: #3B4455;\n",
       "      fill: #D2E3FC;\n",
       "    }\n",
       "\n",
       "    [theme=dark] .colab-df-convert:hover {\n",
       "      background-color: #434B5C;\n",
       "      box-shadow: 0px 1px 3px 1px rgba(0, 0, 0, 0.15);\n",
       "      filter: drop-shadow(0px 1px 2px rgba(0, 0, 0, 0.3));\n",
       "      fill: #FFFFFF;\n",
       "    }\n",
       "  </style>\n",
       "\n",
       "      <script>\n",
       "        const buttonEl =\n",
       "          document.querySelector('#df-1af0f30d-e683-4b19-a117-7c06ae08a3d7 button.colab-df-convert');\n",
       "        buttonEl.style.display =\n",
       "          google.colab.kernel.accessAllowed ? 'block' : 'none';\n",
       "\n",
       "        async function convertToInteractive(key) {\n",
       "          const element = document.querySelector('#df-1af0f30d-e683-4b19-a117-7c06ae08a3d7');\n",
       "          const dataTable =\n",
       "            await google.colab.kernel.invokeFunction('convertToInteractive',\n",
       "                                                     [key], {});\n",
       "          if (!dataTable) return;\n",
       "\n",
       "          const docLinkHtml = 'Like what you see? Visit the ' +\n",
       "            '<a target=\"_blank\" href=https://colab.research.google.com/notebooks/data_table.ipynb>data table notebook</a>'\n",
       "            + ' to learn more about interactive tables.';\n",
       "          element.innerHTML = '';\n",
       "          dataTable['output_type'] = 'display_data';\n",
       "          await google.colab.output.renderOutput(dataTable, element);\n",
       "          const docLink = document.createElement('div');\n",
       "          docLink.innerHTML = docLinkHtml;\n",
       "          element.appendChild(docLink);\n",
       "        }\n",
       "      </script>\n",
       "    </div>\n",
       "  </div>\n",
       "  "
      ],
      "text/plain": [
       "   Unnamed: 0            tweet_id  ... topic_prob                topic_desc\n",
       "0           0  570301031407624196  ...   0.221675     Reschedule and Refund\n",
       "1           1  570300817074462722  ...   0.214476     Reschedule and Refund\n",
       "2           2  570300767074181121  ...   0.227286  Phone and Online Booking\n",
       "3           3  570282469121007616  ...   0.259870     Reschedule and Refund\n",
       "4           4  570276917301137409  ...   0.193757     Reschedule and Refund\n",
       "\n",
       "[5 rows x 20 columns]"
      ]
     },
     "metadata": {},
     "execution_count": 4
    }
   ]
  },
  {
   "cell_type": "code",
   "metadata": {
    "id": "d5ExLOd5gagK"
   },
   "source": [
    "data = df[['topic_desc', 'text']].copy()"
   ],
   "execution_count": 5,
   "outputs": []
  },
  {
   "cell_type": "code",
   "metadata": {
    "colab": {
     "base_uri": "https://localhost:8080/",
     "height": 206
    },
    "id": "kpFmdnW3yDf1",
    "outputId": "64704261-0826-46a7-f591-bc024e82d506"
   },
   "source": [
    "data.head()"
   ],
   "execution_count": 6,
   "outputs": [
    {
     "output_type": "execute_result",
     "data": {
      "text/html": [
       "\n",
       "  <div id=\"df-3fed1534-f6d8-4438-95f0-00686bc616eb\">\n",
       "    <div class=\"colab-df-container\">\n",
       "      <div>\n",
       "<style scoped>\n",
       "    .dataframe tbody tr th:only-of-type {\n",
       "        vertical-align: middle;\n",
       "    }\n",
       "\n",
       "    .dataframe tbody tr th {\n",
       "        vertical-align: top;\n",
       "    }\n",
       "\n",
       "    .dataframe thead th {\n",
       "        text-align: right;\n",
       "    }\n",
       "</style>\n",
       "<table border=\"1\" class=\"dataframe\">\n",
       "  <thead>\n",
       "    <tr style=\"text-align: right;\">\n",
       "      <th></th>\n",
       "      <th>topic_desc</th>\n",
       "      <th>text</th>\n",
       "    </tr>\n",
       "  </thead>\n",
       "  <tbody>\n",
       "    <tr>\n",
       "      <th>0</th>\n",
       "      <td>Reschedule and Refund</td>\n",
       "      <td>@VirginAmerica it's really aggressive to blast...</td>\n",
       "    </tr>\n",
       "    <tr>\n",
       "      <th>1</th>\n",
       "      <td>Reschedule and Refund</td>\n",
       "      <td>@VirginAmerica and it's a really big bad thing...</td>\n",
       "    </tr>\n",
       "    <tr>\n",
       "      <th>2</th>\n",
       "      <td>Phone and Online Booking</td>\n",
       "      <td>@VirginAmerica seriously would pay $30 a fligh...</td>\n",
       "    </tr>\n",
       "    <tr>\n",
       "      <th>3</th>\n",
       "      <td>Reschedule and Refund</td>\n",
       "      <td>@VirginAmerica SFO-PDX schedule is still MIA.</td>\n",
       "    </tr>\n",
       "    <tr>\n",
       "      <th>4</th>\n",
       "      <td>Reschedule and Refund</td>\n",
       "      <td>@VirginAmerica  I flew from NYC to SFO last we...</td>\n",
       "    </tr>\n",
       "  </tbody>\n",
       "</table>\n",
       "</div>\n",
       "      <button class=\"colab-df-convert\" onclick=\"convertToInteractive('df-3fed1534-f6d8-4438-95f0-00686bc616eb')\"\n",
       "              title=\"Convert this dataframe to an interactive table.\"\n",
       "              style=\"display:none;\">\n",
       "        \n",
       "  <svg xmlns=\"http://www.w3.org/2000/svg\" height=\"24px\"viewBox=\"0 0 24 24\"\n",
       "       width=\"24px\">\n",
       "    <path d=\"M0 0h24v24H0V0z\" fill=\"none\"/>\n",
       "    <path d=\"M18.56 5.44l.94 2.06.94-2.06 2.06-.94-2.06-.94-.94-2.06-.94 2.06-2.06.94zm-11 1L8.5 8.5l.94-2.06 2.06-.94-2.06-.94L8.5 2.5l-.94 2.06-2.06.94zm10 10l.94 2.06.94-2.06 2.06-.94-2.06-.94-.94-2.06-.94 2.06-2.06.94z\"/><path d=\"M17.41 7.96l-1.37-1.37c-.4-.4-.92-.59-1.43-.59-.52 0-1.04.2-1.43.59L10.3 9.45l-7.72 7.72c-.78.78-.78 2.05 0 2.83L4 21.41c.39.39.9.59 1.41.59.51 0 1.02-.2 1.41-.59l7.78-7.78 2.81-2.81c.8-.78.8-2.07 0-2.86zM5.41 20L4 18.59l7.72-7.72 1.47 1.35L5.41 20z\"/>\n",
       "  </svg>\n",
       "      </button>\n",
       "      \n",
       "  <style>\n",
       "    .colab-df-container {\n",
       "      display:flex;\n",
       "      flex-wrap:wrap;\n",
       "      gap: 12px;\n",
       "    }\n",
       "\n",
       "    .colab-df-convert {\n",
       "      background-color: #E8F0FE;\n",
       "      border: none;\n",
       "      border-radius: 50%;\n",
       "      cursor: pointer;\n",
       "      display: none;\n",
       "      fill: #1967D2;\n",
       "      height: 32px;\n",
       "      padding: 0 0 0 0;\n",
       "      width: 32px;\n",
       "    }\n",
       "\n",
       "    .colab-df-convert:hover {\n",
       "      background-color: #E2EBFA;\n",
       "      box-shadow: 0px 1px 2px rgba(60, 64, 67, 0.3), 0px 1px 3px 1px rgba(60, 64, 67, 0.15);\n",
       "      fill: #174EA6;\n",
       "    }\n",
       "\n",
       "    [theme=dark] .colab-df-convert {\n",
       "      background-color: #3B4455;\n",
       "      fill: #D2E3FC;\n",
       "    }\n",
       "\n",
       "    [theme=dark] .colab-df-convert:hover {\n",
       "      background-color: #434B5C;\n",
       "      box-shadow: 0px 1px 3px 1px rgba(0, 0, 0, 0.15);\n",
       "      filter: drop-shadow(0px 1px 2px rgba(0, 0, 0, 0.3));\n",
       "      fill: #FFFFFF;\n",
       "    }\n",
       "  </style>\n",
       "\n",
       "      <script>\n",
       "        const buttonEl =\n",
       "          document.querySelector('#df-3fed1534-f6d8-4438-95f0-00686bc616eb button.colab-df-convert');\n",
       "        buttonEl.style.display =\n",
       "          google.colab.kernel.accessAllowed ? 'block' : 'none';\n",
       "\n",
       "        async function convertToInteractive(key) {\n",
       "          const element = document.querySelector('#df-3fed1534-f6d8-4438-95f0-00686bc616eb');\n",
       "          const dataTable =\n",
       "            await google.colab.kernel.invokeFunction('convertToInteractive',\n",
       "                                                     [key], {});\n",
       "          if (!dataTable) return;\n",
       "\n",
       "          const docLinkHtml = 'Like what you see? Visit the ' +\n",
       "            '<a target=\"_blank\" href=https://colab.research.google.com/notebooks/data_table.ipynb>data table notebook</a>'\n",
       "            + ' to learn more about interactive tables.';\n",
       "          element.innerHTML = '';\n",
       "          dataTable['output_type'] = 'display_data';\n",
       "          await google.colab.output.renderOutput(dataTable, element);\n",
       "          const docLink = document.createElement('div');\n",
       "          docLink.innerHTML = docLinkHtml;\n",
       "          element.appendChild(docLink);\n",
       "        }\n",
       "      </script>\n",
       "    </div>\n",
       "  </div>\n",
       "  "
      ],
      "text/plain": [
       "                 topic_desc                                               text\n",
       "0     Reschedule and Refund  @VirginAmerica it's really aggressive to blast...\n",
       "1     Reschedule and Refund  @VirginAmerica and it's a really big bad thing...\n",
       "2  Phone and Online Booking  @VirginAmerica seriously would pay $30 a fligh...\n",
       "3     Reschedule and Refund      @VirginAmerica SFO-PDX schedule is still MIA.\n",
       "4     Reschedule and Refund  @VirginAmerica  I flew from NYC to SFO last we..."
      ]
     },
     "metadata": {},
     "execution_count": 6
    }
   ]
  },
  {
   "cell_type": "code",
   "metadata": {
    "colab": {
     "base_uri": "https://localhost:8080/",
     "height": 261
    },
    "id": "7iPBGNrlDk5y",
    "outputId": "ae505d79-43a9-46ea-d428-fe90683c1675"
   },
   "source": [
    "pd.set_option('display.max_colwidth', -1)\n",
    "data.sample(5)"
   ],
   "execution_count": 7,
   "outputs": [
    {
     "output_type": "stream",
     "name": "stderr",
     "text": [
      "/usr/local/lib/python3.7/dist-packages/ipykernel_launcher.py:1: FutureWarning: Passing a negative integer is deprecated in version 1.0 and will not be supported in future version. Instead, use None to not limit the column width.\n",
      "  \"\"\"Entry point for launching an IPython kernel.\n"
     ]
    },
    {
     "output_type": "execute_result",
     "data": {
      "text/html": [
       "\n",
       "  <div id=\"df-43b14b0d-550f-4728-a4e0-f5c17da43959\">\n",
       "    <div class=\"colab-df-container\">\n",
       "      <div>\n",
       "<style scoped>\n",
       "    .dataframe tbody tr th:only-of-type {\n",
       "        vertical-align: middle;\n",
       "    }\n",
       "\n",
       "    .dataframe tbody tr th {\n",
       "        vertical-align: top;\n",
       "    }\n",
       "\n",
       "    .dataframe thead th {\n",
       "        text-align: right;\n",
       "    }\n",
       "</style>\n",
       "<table border=\"1\" class=\"dataframe\">\n",
       "  <thead>\n",
       "    <tr style=\"text-align: right;\">\n",
       "      <th></th>\n",
       "      <th>topic_desc</th>\n",
       "      <th>text</th>\n",
       "    </tr>\n",
       "  </thead>\n",
       "  <tbody>\n",
       "    <tr>\n",
       "      <th>2543</th>\n",
       "      <td>Reschedule and Refund</td>\n",
       "      <td>@united I have received one previously on the 11th having checked. Odd as you said there was no complaint associated with my e-mail?</td>\n",
       "    </tr>\n",
       "    <tr>\n",
       "      <th>2359</th>\n",
       "      <td>Reschedule and Refund</td>\n",
       "      <td>@united It was quite enjoyable. 😊 \\n\\nExcept now he's stuck on the runway in Houston. 😕</td>\n",
       "    </tr>\n",
       "    <tr>\n",
       "      <th>5267</th>\n",
       "      <td>Reschedule and Refund</td>\n",
       "      <td>@USAirways you guys lost my luggage</td>\n",
       "    </tr>\n",
       "    <tr>\n",
       "      <th>954</th>\n",
       "      <td>Reschedule and Refund</td>\n",
       "      <td>@united why do you hate your passengers?</td>\n",
       "    </tr>\n",
       "    <tr>\n",
       "      <th>1807</th>\n",
       "      <td>Reschedule and Refund</td>\n",
       "      <td>@united worst AIRLINE \\nBEWARE THEY DO NOT MAINTAIN THERE PLAIN \\nBEEN ON THE RUNWAY THE PAST 4 HOURS!!!/</td>\n",
       "    </tr>\n",
       "  </tbody>\n",
       "</table>\n",
       "</div>\n",
       "      <button class=\"colab-df-convert\" onclick=\"convertToInteractive('df-43b14b0d-550f-4728-a4e0-f5c17da43959')\"\n",
       "              title=\"Convert this dataframe to an interactive table.\"\n",
       "              style=\"display:none;\">\n",
       "        \n",
       "  <svg xmlns=\"http://www.w3.org/2000/svg\" height=\"24px\"viewBox=\"0 0 24 24\"\n",
       "       width=\"24px\">\n",
       "    <path d=\"M0 0h24v24H0V0z\" fill=\"none\"/>\n",
       "    <path d=\"M18.56 5.44l.94 2.06.94-2.06 2.06-.94-2.06-.94-.94-2.06-.94 2.06-2.06.94zm-11 1L8.5 8.5l.94-2.06 2.06-.94-2.06-.94L8.5 2.5l-.94 2.06-2.06.94zm10 10l.94 2.06.94-2.06 2.06-.94-2.06-.94-.94-2.06-.94 2.06-2.06.94z\"/><path d=\"M17.41 7.96l-1.37-1.37c-.4-.4-.92-.59-1.43-.59-.52 0-1.04.2-1.43.59L10.3 9.45l-7.72 7.72c-.78.78-.78 2.05 0 2.83L4 21.41c.39.39.9.59 1.41.59.51 0 1.02-.2 1.41-.59l7.78-7.78 2.81-2.81c.8-.78.8-2.07 0-2.86zM5.41 20L4 18.59l7.72-7.72 1.47 1.35L5.41 20z\"/>\n",
       "  </svg>\n",
       "      </button>\n",
       "      \n",
       "  <style>\n",
       "    .colab-df-container {\n",
       "      display:flex;\n",
       "      flex-wrap:wrap;\n",
       "      gap: 12px;\n",
       "    }\n",
       "\n",
       "    .colab-df-convert {\n",
       "      background-color: #E8F0FE;\n",
       "      border: none;\n",
       "      border-radius: 50%;\n",
       "      cursor: pointer;\n",
       "      display: none;\n",
       "      fill: #1967D2;\n",
       "      height: 32px;\n",
       "      padding: 0 0 0 0;\n",
       "      width: 32px;\n",
       "    }\n",
       "\n",
       "    .colab-df-convert:hover {\n",
       "      background-color: #E2EBFA;\n",
       "      box-shadow: 0px 1px 2px rgba(60, 64, 67, 0.3), 0px 1px 3px 1px rgba(60, 64, 67, 0.15);\n",
       "      fill: #174EA6;\n",
       "    }\n",
       "\n",
       "    [theme=dark] .colab-df-convert {\n",
       "      background-color: #3B4455;\n",
       "      fill: #D2E3FC;\n",
       "    }\n",
       "\n",
       "    [theme=dark] .colab-df-convert:hover {\n",
       "      background-color: #434B5C;\n",
       "      box-shadow: 0px 1px 3px 1px rgba(0, 0, 0, 0.15);\n",
       "      filter: drop-shadow(0px 1px 2px rgba(0, 0, 0, 0.3));\n",
       "      fill: #FFFFFF;\n",
       "    }\n",
       "  </style>\n",
       "\n",
       "      <script>\n",
       "        const buttonEl =\n",
       "          document.querySelector('#df-43b14b0d-550f-4728-a4e0-f5c17da43959 button.colab-df-convert');\n",
       "        buttonEl.style.display =\n",
       "          google.colab.kernel.accessAllowed ? 'block' : 'none';\n",
       "\n",
       "        async function convertToInteractive(key) {\n",
       "          const element = document.querySelector('#df-43b14b0d-550f-4728-a4e0-f5c17da43959');\n",
       "          const dataTable =\n",
       "            await google.colab.kernel.invokeFunction('convertToInteractive',\n",
       "                                                     [key], {});\n",
       "          if (!dataTable) return;\n",
       "\n",
       "          const docLinkHtml = 'Like what you see? Visit the ' +\n",
       "            '<a target=\"_blank\" href=https://colab.research.google.com/notebooks/data_table.ipynb>data table notebook</a>'\n",
       "            + ' to learn more about interactive tables.';\n",
       "          element.innerHTML = '';\n",
       "          dataTable['output_type'] = 'display_data';\n",
       "          await google.colab.output.renderOutput(dataTable, element);\n",
       "          const docLink = document.createElement('div');\n",
       "          docLink.innerHTML = docLinkHtml;\n",
       "          element.appendChild(docLink);\n",
       "        }\n",
       "      </script>\n",
       "    </div>\n",
       "  </div>\n",
       "  "
      ],
      "text/plain": [
       "                 topic_desc                                                                                                                                  text\n",
       "2543  Reschedule and Refund  @united I have received one previously on the 11th having checked. Odd as you said there was no complaint associated with my e-mail?\n",
       "2359  Reschedule and Refund  @united It was quite enjoyable. 😊 \\n\\nExcept now he's stuck on the runway in Houston. 😕                                             \n",
       "5267  Reschedule and Refund  @USAirways you guys lost my luggage                                                                                                 \n",
       "954   Reschedule and Refund  @united why do you hate your passengers?                                                                                            \n",
       "1807  Reschedule and Refund  @united worst AIRLINE \\nBEWARE THEY DO NOT MAINTAIN THERE PLAIN \\nBEEN ON THE RUNWAY THE PAST 4 HOURS!!!/                           "
      ]
     },
     "metadata": {},
     "execution_count": 7
    }
   ]
  },
  {
   "cell_type": "code",
   "metadata": {
    "colab": {
     "base_uri": "https://localhost:8080/"
    },
    "id": "_k_UwFRejkBC",
    "outputId": "b3838713-3540-4a67-c0c8-23b1d68f0fcf"
   },
   "source": [
    "data['topic_desc'].value_counts()"
   ],
   "execution_count": 8,
   "outputs": [
    {
     "output_type": "execute_result",
     "data": {
      "text/plain": [
       "Reschedule and Refund         6512\n",
       "Baggage Issue                 1513\n",
       "Phone and Online Booking      421 \n",
       "Extra Charges                 268 \n",
       "Delay and Customer Service    223 \n",
       "Seating Preferences           153 \n",
       "Reservation Issue             78  \n",
       "Customer Experience           10  \n",
       "Name: topic_desc, dtype: int64"
      ]
     },
     "metadata": {},
     "execution_count": 8
    }
   ]
  },
  {
   "cell_type": "code",
   "metadata": {
    "colab": {
     "base_uri": "https://localhost:8080/"
    },
    "id": "r-kUo9x5xAHg",
    "outputId": "da15e34a-b5af-4837-d10d-a09f50c79ff0"
   },
   "source": [
    "def print_plot(index):\n",
    "    example = df[df.index == index][['text','topic_desc']].values[0]\n",
    "    if len(example) > 0:\n",
    "        print(example[0])\n",
    "        print('product:', example[1])\n",
    "print_plot(10)"
   ],
   "execution_count": 18,
   "outputs": [
    {
     "output_type": "stream",
     "name": "stdout",
     "text": [
      "@VirginAmerica hi! I just bked a cool birthday trip with you, but i can't add my elevate no. cause i entered my middle name during Flight Booking Problems 😢\n",
      "product: Reservation Issue\n"
     ]
    }
   ]
  },
  {
   "cell_type": "code",
   "metadata": {
    "id": "3q-ycfohn3oW"
   },
   "source": [
    "import re\n",
    "def clean_text(txt):\n",
    "\n",
    "    txt = txt.lower()\n",
    "    txt = re.sub(r\"(?<=\\w)nt\", \"not\",txt)\n",
    "    txt = re.sub(r\"(@\\S+)\", \"\", txt)\n",
    "    txt = re.sub(r'\\W', ' ', str(txt)) \n",
    "    txt = txt.translate(str.maketrans('', '', string.punctuation))\n",
    "    txt = re.sub(r'\\s+[a-zA-Z]\\s+', ' ', txt)\n",
    "    txt = re.sub(r'\\s+', ' ', txt, flags=re.I)\n",
    "    txt = re.sub(r\"(http\\S+|http)\", \"\", txt)\n",
    "    txt = ' '.join([PorterStemmer().stem(word=word) for word in txt.split(\" \") if word not in stopwords.words('english') ])\n",
    "    txt = ''.join([i for i in txt if not i.isdigit()]).strip()\n",
    "    return txt"
   ],
   "execution_count": 19,
   "outputs": []
  },
  {
   "cell_type": "code",
   "metadata": {
    "colab": {
     "base_uri": "https://localhost:8080/"
    },
    "id": "pkNwTVrXxT4I",
    "outputId": "e1349e22-2d99-4351-f821-09456e686f15"
   },
   "source": [
    "print('Original Text : ',data['text'][5])  \n",
    "print('Processed Text : ',clean_text(data['text'][5]))"
   ],
   "execution_count": 11,
   "outputs": [
    {
     "output_type": "stream",
     "name": "stdout",
     "text": [
      "Original Text :  @VirginAmerica why are your first fares in May over three times more than other carriers when all seats are available to select???\n",
      "Processed Text :  first fare may three time carrier seat avail select\n"
     ]
    }
   ]
  },
  {
   "cell_type": "code",
   "metadata": {
    "id": "UzVkjFMB3Lei"
   },
   "source": [
    "data['text'] = data['text'].apply(clean_text)"
   ],
   "execution_count": 12,
   "outputs": []
  },
  {
   "cell_type": "code",
   "metadata": {
    "colab": {
     "base_uri": "https://localhost:8080/"
    },
    "id": "O7M2oCfE91P8",
    "outputId": "d693d4cd-079a-46a8-fd8e-4d47ea1c4492"
   },
   "source": [
    "data['text'].values"
   ],
   "execution_count": 13,
   "outputs": [
    {
     "output_type": "execute_result",
     "data": {
      "text/plain": [
       "array(['realli aggress blast obnoxi enotertainmenot guest face amp littl recours',\n",
       "       'realli big bad thing',\n",
       "       'serious would pay  flight seat play realli bad thing fli va', ...,\n",
       "       'right cue delay',\n",
       "       'leav  minut late flight warn commun unotil  minut late flight call shitti custom svc',\n",
       "       'money chang flight answer phone suggest make commitmenot'],\n",
       "      dtype=object)"
      ]
     },
     "metadata": {},
     "execution_count": 13
    }
   ]
  },
  {
   "cell_type": "code",
   "metadata": {
    "colab": {
     "base_uri": "https://localhost:8080/"
    },
    "id": "qtkNpBlZLM7P",
    "outputId": "31b53579-ac66-49d4-f1bd-63dda421b456"
   },
   "source": [
    "MAX_NB_WORDS = 50000\n",
    "MAX_SEQUENCE_LENGTH = 250\n",
    "EMBEDDING_DIM = 100\n",
    "\n",
    "tokenizer = Tokenizer(num_words=MAX_NB_WORDS, filters='!\"#$%&()*+,-./:;<=>?@[\\]^_`{|}~', lower=True)\n",
    "tokenizer.fit_on_texts(df['text'].values)\n",
    "word_index = tokenizer.word_index\n",
    "print('Found %s unique tokens.' % len(word_index))"
   ],
   "execution_count": 24,
   "outputs": [
    {
     "output_type": "stream",
     "name": "stdout",
     "text": [
      "Found 11306 unique tokens.\n"
     ]
    }
   ]
  },
  {
   "cell_type": "code",
   "metadata": {
    "colab": {
     "base_uri": "https://localhost:8080/"
    },
    "id": "cRiT3fYwOkNa",
    "outputId": "03890b26-c66f-42fc-ae23-3b0de5478148"
   },
   "source": [
    "X = tokenizer.texts_to_sequences(df['text'].values)\n",
    "X = pad_sequences(X, maxlen=MAX_SEQUENCE_LENGTH)\n",
    "print('Shape of data tensor:', X.shape[1])"
   ],
   "execution_count": 22,
   "outputs": [
    {
     "output_type": "stream",
     "name": "stdout",
     "text": [
      "Shape of data tensor: 250\n"
     ]
    }
   ]
  },
  {
   "cell_type": "code",
   "metadata": {
    "colab": {
     "base_uri": "https://localhost:8080/"
    },
    "id": "hXF3qCb1PA7j",
    "outputId": "8003e2f5-40a1-4acc-8f2f-ddae43d5535e"
   },
   "source": [
    "Y = pd.get_dummies(df['topic_desc']).values\n",
    "print('Shape of label tensor:', Y.shape)\n",
    "#8 classes\n",
    "#9k training examples "
   ],
   "execution_count": 23,
   "outputs": [
    {
     "output_type": "stream",
     "name": "stdout",
     "text": [
      "Shape of label tensor: (9178, 8)\n"
     ]
    }
   ]
  },
  {
   "cell_type": "code",
   "metadata": {
    "colab": {
     "base_uri": "https://localhost:8080/"
    },
    "id": "Urj2I9_UPE2a",
    "outputId": "19ed2561-650f-4498-a473-654d8e697958"
   },
   "source": [
    "X_train, X_test, Y_train, Y_test = train_test_split(X,Y, test_size = 0.10, random_state = 42)\n",
    "print(X_train.shape,Y_train.shape)\n",
    "print(X_test.shape,Y_test.shape)"
   ],
   "execution_count": 26,
   "outputs": [
    {
     "output_type": "stream",
     "name": "stdout",
     "text": [
      "(8260, 250) (8260, 8)\n",
      "(918, 250) (918, 8)\n"
     ]
    }
   ]
  },
  {
   "cell_type": "code",
   "metadata": {
    "colab": {
     "base_uri": "https://localhost:8080/"
    },
    "id": "m0sfRqrs--mf",
    "outputId": "3397ad64-7f52-40b1-ee9e-158a26968f7f"
   },
   "source": [
    "model = Sequential()\n",
    "model.add(Embedding(MAX_NB_WORDS, EMBEDDING_DIM, input_length=X.shape[1]))\n",
    "model.add(SpatialDropout1D(0.2))\n",
    "model.add(LSTM(100, dropout=0.2, recurrent_dropout=0.2))\n",
    "model.add(Dense(8, activation='softmax'))\n",
    "model.compile(loss='categorical_crossentropy', optimizer='adam', metrics=['accuracy'])\n",
    "\n",
    "epochs = 10\n",
    "batch_size = 64\n",
    "early_stopping = EarlyStopping(monitor='val_loss', patience=20, verbose=1, mode='auto')\n",
    "\n",
    "history = model.fit(X_train, Y_train, epochs=epochs, batch_size=batch_size,validation_split=0.1,callbacks=[early_stopping])"
   ],
   "execution_count": 27,
   "outputs": [
    {
     "output_type": "stream",
     "name": "stdout",
     "text": [
      "Epoch 1/10\n",
      "117/117 [==============================] - 288s 2s/step - loss: 1.1000 - accuracy: 0.7026 - val_loss: 0.9507 - val_accuracy: 0.7119\n",
      "Epoch 2/10\n",
      "117/117 [==============================] - 265s 2s/step - loss: 0.7982 - accuracy: 0.7385 - val_loss: 0.8777 - val_accuracy: 0.7082\n",
      "Epoch 3/10\n",
      "117/117 [==============================] - 264s 2s/step - loss: 0.5568 - accuracy: 0.8199 - val_loss: 0.8698 - val_accuracy: 0.7107\n",
      "Epoch 4/10\n",
      "117/117 [==============================] - 274s 2s/step - loss: 0.4014 - accuracy: 0.8675 - val_loss: 0.7850 - val_accuracy: 0.7421\n",
      "Epoch 5/10\n",
      "117/117 [==============================] - 278s 2s/step - loss: 0.3048 - accuracy: 0.8953 - val_loss: 0.8605 - val_accuracy: 0.7579\n",
      "Epoch 6/10\n",
      "117/117 [==============================] - 268s 2s/step - loss: 0.2286 - accuracy: 0.9244 - val_loss: 0.9425 - val_accuracy: 0.7240\n",
      "Epoch 7/10\n",
      "117/117 [==============================] - 267s 2s/step - loss: 0.1748 - accuracy: 0.9463 - val_loss: 0.9354 - val_accuracy: 0.7554\n",
      "Epoch 8/10\n",
      "117/117 [==============================] - 263s 2s/step - loss: 0.1289 - accuracy: 0.9614 - val_loss: 1.0696 - val_accuracy: 0.7845\n",
      "Epoch 9/10\n",
      "117/117 [==============================] - 261s 2s/step - loss: 0.0860 - accuracy: 0.9757 - val_loss: 1.0403 - val_accuracy: 0.7688\n",
      "Epoch 10/10\n",
      "117/117 [==============================] - 378s 3s/step - loss: 0.0638 - accuracy: 0.9820 - val_loss: 1.1931 - val_accuracy: 0.7845\n"
     ]
    }
   ]
  },
  {
   "cell_type": "code",
   "metadata": {
    "colab": {
     "base_uri": "https://localhost:8080/"
    },
    "id": "edu4RhWIZkZv",
    "outputId": "d79b3d7e-d839-4a21-c91e-76dbdfee14f3"
   },
   "source": [
    "accr = model.evaluate(X_test,Y_test)\n",
    "print('Test set\\n  Loss: {:0.3f}\\n  Accuracy: {:0.3f}'.format(accr[0],accr[1]))"
   ],
   "execution_count": 28,
   "outputs": [
    {
     "output_type": "stream",
     "name": "stdout",
     "text": [
      "29/29 [==============================] - 6s 193ms/step - loss: 1.0167 - accuracy: 0.8126\n",
      "Test set\n",
      "  Loss: 1.017\n",
      "  Accuracy: 0.813\n"
     ]
    }
   ]
  },
  {
   "cell_type": "code",
   "metadata": {
    "colab": {
     "base_uri": "https://localhost:8080/",
     "height": 281
    },
    "id": "b7VmkZABZsSj",
    "outputId": "08d86cc7-c0ef-40cf-8494-a6de8cca2ff7"
   },
   "source": [
    "plt.title('Accuracy')\n",
    "plt.plot(history.history['accuracy'], label='train')\n",
    "plt.plot(history.history['val_accuracy'], label='test')\n",
    "plt.legend()\n",
    "plt.show();"
   ],
   "execution_count": 29,
   "outputs": [
    {
     "output_type": "display_data",
     "data": {
      "image/png": "[encoded data removed]",
      "text/plain": [
       "<Figure size 432x288 with 1 Axes>"
      ]
     },
     "metadata": {
      "needs_background": "light"
     }
    }
   ]
  },
  {
   "cell_type": "code",
   "metadata": {
    "colab": {
     "base_uri": "https://localhost:8080/"
    },
    "id": "lcWs0A5dZ33O",
    "outputId": "fbfb5137-f9f2-4c04-bb66-c0b82b1f996c"
   },
   "source": [
    "new_tweet = ['is todays flight from Palm Springs Ca to JFK in NY Cancelled Flightled']\n",
    "seq = tokenizer.texts_to_sequences(new_tweet)\n",
    "padded = pad_sequences(seq, maxlen=MAX_SEQUENCE_LENGTH)\n",
    "pred = model.predict(padded)\n",
    "labels = ['Reschedule and Refund', 'Baggage Issue','Phone and Online Booking', 'Extra Charges', 'Delay and Customer Service', 'Seating Preferences', 'Reservation Issue', 'Customer Experience']\n",
    "print(pred, labels[np.argmax(pred)])"
   ],
   "execution_count": 30,
   "outputs": [
    {
     "output_type": "stream",
     "name": "stdout",
     "text": [
      "[[1.3952790e-06 8.9905922e-07 7.4816137e-07 5.6518309e-07 3.8964404e-06\n",
      "  9.9998474e-01 3.0366873e-08 7.7127752e-06]] Seating Preferences\n"
     ]
    }
   ]
  },
  {
   "cell_type": "code",
   "metadata": {
    "id": "r3F_oukUkkS8"
   },
   "source": [
    "import pickle\n",
    "\n",
    "model.save_weights(ROOT_DIR+\"model_multiclass/multiclassComplaintClassifier.h5\")\n",
    "\n",
    "with open(ROOT_DIR+'model_multiclass/tokenizerMulticlassComplaintClassification.pickle', 'wb') as handle:\n",
    "    pickle.dump(tokenizer, handle, protocol=pickle.HIGHEST_PROTOCOL)"
   ],
   "execution_count": 32,
   "outputs": []
  },
  {
   "cell_type": "code",
   "metadata": {
    "id": "_K3mSLJGk3ke"
   },
   "source": [
    "import pickle\n",
    "import tensorflow.keras.models\n",
    "from tensorflow.keras.models import Sequential\n",
    "from tensorflow.keras.layers import Embedding\n",
    "from keras.layers.recurrent import LSTM\n",
    "from tensorflow.keras.layers import Input, Dense, Embedding, SpatialDropout1D, add, concatenate\n",
    "from tensorflow.keras.callbacks import ModelCheckpoint, EarlyStopping\n",
    "\n",
    "import re\n",
    "from nltk.corpus import stopwords\n",
    "\n",
    "class MulticlassComplainInference:\n",
    "\n",
    "  def __init__(self):\n",
    "      self.load_models()\n",
    "\n",
    "  def get_model(self):\n",
    "      model = Sequential()\n",
    "      model.add(Embedding(MAX_NB_WORDS, EMBEDDING_DIM, input_length=X.shape[1]))\n",
    "      model.add(SpatialDropout1D(0.2))\n",
    "      model.add(LSTM(100, dropout=0.2, recurrent_dropout=0.2))\n",
    "      model.add(Dense(8, activation='softmax'))\n",
    "      model.compile(loss='categorical_crossentropy', optimizer='adam', metrics=['accuracy'])\n",
    "      return model\n",
    "  \n",
    "  \n",
    "  def load_models(self):\n",
    "      with open(ROOT_DIR+'model_multiclass/tokenizerMulticlassComplaintClassification.pickle', 'rb') as handle:\n",
    "          self.tokenizer = pickle.load(handle)\n",
    "\n",
    "      self.model = self.get_model()\n",
    "      self.model.load_weights(ROOT_DIR+\"model_multiclass/multiclassComplaintClassifier.h5\")\n",
    "\n",
    "  def clean_text(self, txt):\n",
    "\n",
    "      txt = txt.lower()\n",
    "      txt = re.sub(r\"(?<=\\w)nt\", \"not\",txt) \n",
    "      txt = re.sub(r\"(@\\S+)\", \"\", txt)  \n",
    "      txt = re.sub(r'\\W', ' ', str(txt)) \n",
    "      txt = txt.translate(str.maketrans('', '', string.punctuation))\n",
    "      txt = re.sub(r'\\s+[a-zA-Z]\\s+', ' ', txt)   \n",
    "      txt = re.sub(r'\\s+', ' ', txt, flags=re.I)\n",
    "      txt = re.sub(r\"(http\\S+|http)\", \"\", txt)\n",
    "      txt = ' '.join([PorterStemmer().stem(word=word) for word in txt.split(\" \") if word not in stopwords.words('english') ])\n",
    "      txt = ''.join([i for i in txt if not i.isdigit()]).strip()\n",
    "      return txt\n",
    "  \n",
    "  def predict_complaint(self, text):\n",
    "      new_tweet = self.clean_text(text)\n",
    "      seq = self.tokenizer.texts_to_sequences([new_tweet])\n",
    "      padded = pad_sequences(seq, maxlen=MAX_SEQUENCE_LENGTH)\n",
    "      pred = self.model.predict(padded)\n",
    "      labels = ['Reschedule and Refund', 'Baggage Issue','Phone and Online Booking', 'Extra Charges', \n",
    "                'Delay and Customer Service', 'Seating Preferences', 'Reservation Issue', 'Customer Experience']\n",
    "      print(pred, labels[np.argmax(pred)])\n",
    "      return labels[np.argmax(pred)]\n"
   ],
   "execution_count": 33,
   "outputs": []
  },
  {
   "cell_type": "code",
   "metadata": {
    "id": "lK-ur4gOwaJC"
   },
   "source": [
    "mul = MulticlassComplainInference()"
   ],
   "execution_count": 34,
   "outputs": []
  },
  {
   "cell_type": "code",
   "metadata": {
    "colab": {
     "base_uri": "https://localhost:8080/",
     "height": 70
    },
    "id": "rVQaJULgweU8",
    "outputId": "0e908f42-e980-441b-efa6-9685b4d6a144"
   },
   "source": [
    "mul.predict_complaint(\"@united I have never been mislead by a company as many times as I have this week by United Airlines!\")"
   ],
   "execution_count": 37,
   "outputs": [
    {
     "output_type": "stream",
     "name": "stdout",
     "text": [
      "[[0.00172137 0.00220251 0.00400781 0.00458348 0.04309503 0.91993976\n",
      "  0.00185561 0.02259446]] Seating Preferences\n"
     ]
    },
    {
     "output_type": "execute_result",
     "data": {
      "application/vnd.google.colaboratory.intrinsic+json": {
       "type": "string"
      },
      "text/plain": [
       "'Seating Preferences'"
      ]
     },
     "metadata": {},
     "execution_count": 37
    }
   ]
  },
  {
   "cell_type": "code",
   "source": [
    ""
   ],
   "metadata": {
    "id": "L8iPHaiuOJBu"
   },
   "execution_count": null,
   "outputs": []
  }
 ]
}
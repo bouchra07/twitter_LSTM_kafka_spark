{
 "cells": [
  {
   "cell_type": "code",
   "execution_count": 2,
   "id": "a6168980",
   "metadata": {},
   "outputs": [],
   "source": [
    "import tweepy\n",
    "from tweepy import OAuthHandler\n",
    "import json\n",
    "from flask import Flask, request\n",
    "import random"
   ]
  },
  {
   "cell_type": "code",
   "execution_count": 3,
   "id": "910c3e45",
   "metadata": {},
   "outputs": [],
   "source": [
    "class ReplyTweet:\n",
    "    \n",
    "    def __init__(self):\n",
    "\n",
    "        access_token = \"4518193835-XGOBCZibmnUdgkPZM3CGLL6JFKqoAktx1VimWYD\"\n",
    "        access_secret = \"GQrGPwhJehHwhQiw7pTC4CzXMioRLBFNWSpiwqIzkZAjA\"\n",
    "        consumer_key = \"XRuZQD2Sq8Ojtvo3dbe1Z2U0M\"\n",
    "        consumer_secret = \"FRjWoFHTSxWKIYfRZCsifD6jRJRjTJBunet8JUj4pJOiZp2y4x\"\n",
    "        \n",
    "        auth = OAuthHandler(consumer_key, consumer_secret)\n",
    "        auth.set_access_token(access_token, access_secret)\n",
    "        self.api = tweepy.API(auth,wait_on_rate_limit=True)\n",
    "    \n",
    "    def sendReply(self, tweetId, user, text):\n",
    "        try:\n",
    "            text = \"@\"+user +\" \" + text\n",
    "            print(text)\n",
    "            self.api.update_status(text, int(tweetId))\n",
    "            return True\n",
    "        except Exception as e:\n",
    "            print(e)\n",
    "            return False\n",
    "    \n",
    "    def getReplyText(self, complain_type, ticketId):\n",
    "        reply_txt = \"Appologies for the inconvience caused. We are taking this via ticket id \"+str(ticketId)+\" it will be resolved asap.\"\n",
    "        return reply_txt\n",
    "    \n",
    "    def reply_toTweet(self, tweetId, complain, complain_type, user):\n",
    "        if bool(complain):\n",
    "            ticketId = int(random.random() * 100000)\n",
    "            txt = self.getReplyText(complain_type, ticketId)\n",
    "            replied = self.sendReply(tweetId, user, txt)\n",
    "        else:\n",
    "            ticketId = \"\"\n",
    "            replied = False\n",
    "        return json.dumps({\"replied\" : replied, \"ticketId\" : ticketId})\n"
   ]
  },
  {
   "cell_type": "code",
   "execution_count": null,
   "id": "2e977656",
   "metadata": {
    "pycharm": {
     "is_executing": true,
     "name": "#%%\n"
    }
   },
   "outputs": [
    {
     "name": "stdout",
     "output_type": "stream",
     "text": [
      " * Serving Flask app '__main__' (lazy loading)\n",
      " * Environment: production\n",
      "\u001B[31m   WARNING: This is a development server. Do not use it in a production deployment.\u001B[0m\n",
      "\u001B[2m   Use a production WSGI server instead.\u001B[0m\n",
      " * Debug mode: off\n"
     ]
    },
    {
     "name": "stderr",
     "output_type": "stream",
     "text": [
      " * Running on http://127.0.0.1:5000/ (Press CTRL+C to quit)\n"
     ]
    },
    {
     "name": "stdout",
     "output_type": "stream",
     "text": [
      "ImmutableMultiDict([('tweetId', '1492141260768956418'), ('complain', 'true'), ('complain_type', 'Seating Preference'), ('user', 'parz1_'), ('tweet', '')])\n",
      "@parz1_ Appologies for the inconvience caused. We are taking this via ticket id 14635 it will be resolved asap.\n"
     ]
    },
    {
     "name": "stderr",
     "output_type": "stream",
     "text": [
      "127.0.0.1 - - [11/Feb/2022 15:19:54] \"POST / HTTP/1.1\" 200 -\n"
     ]
    }
   ],
   "source": [
    "app = Flask(__name__)\n",
    "\n",
    "@app.route('/', methods = ['POST'])\n",
    "def replyTweet():\n",
    "    print(request.form)\n",
    "    data = request.form\n",
    "    reply = ReplyTweet()\n",
    "    return reply.reply_toTweet(data['tweetId'], data['complain'], data['complain_type'], data['user']) \n",
    "\n",
    "if __name__ == '__main__':\n",
    "    \n",
    "    app.run()"
   ]
  }
 ],
 "metadata": {
  "kernelspec": {
   "display_name": "Python 3",
   "language": "python",
   "name": "python3"
  },
  "language_info": {
   "codemirror_mode": {
    "name": "ipython",
    "version": 3
   },
   "file_extension": ".py",
   "mimetype": "text/x-python",
   "name": "python",
   "nbconvert_exporter": "python",
   "pygments_lexer": "ipython3",
   "version": "3.7.6"
  }
 },
 "nbformat": 4,
 "nbformat_minor": 5
}